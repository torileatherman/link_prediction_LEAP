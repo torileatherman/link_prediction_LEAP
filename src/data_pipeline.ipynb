{
 "cells": [
  {
   "cell_type": "markdown",
   "metadata": {},
   "source": [
    "# Import, preprocess, and store data split"
   ]
  },
  {
   "cell_type": "markdown",
   "metadata": {},
   "source": [
    "## Import relevant packages"
   ]
  },
  {
   "cell_type": "code",
   "execution_count": 55,
   "metadata": {},
   "outputs": [
    {
     "data": {
      "text/plain": [
       "<torch._C.Generator at 0x119c139f0>"
      ]
     },
     "execution_count": 55,
     "metadata": {},
     "output_type": "execute_result"
    }
   ],
   "source": [
    "import torch\n",
    "from torch_geometric.datasets import Coauthor, Planetoid, WikipediaNetwork\n",
    "from torch_geometric.transforms import RandomLinkSplit\n",
    "\n",
    "import pickle\n",
    "import bz2\n",
    "import time\n",
    "\n",
    "torch.manual_seed(10)"
   ]
  },
  {
   "cell_type": "markdown",
   "metadata": {},
   "source": [
    "## Import homogeneous datasets"
   ]
  },
  {
   "cell_type": "code",
   "execution_count": 6,
   "metadata": {},
   "outputs": [
    {
     "name": "stderr",
     "output_type": "stream",
     "text": [
      "Downloading https://graphmining.ai/datasets/ptg/wiki/crocodile.npz\n",
      "Processing...\n",
      "Done!\n",
      "Downloading https://github.com/kimiyoung/planetoid/raw/master/data/ind.pubmed.x\n",
      "Downloading https://github.com/kimiyoung/planetoid/raw/master/data/ind.pubmed.tx\n",
      "Downloading https://github.com/kimiyoung/planetoid/raw/master/data/ind.pubmed.allx\n",
      "Downloading https://github.com/kimiyoung/planetoid/raw/master/data/ind.pubmed.y\n",
      "Downloading https://github.com/kimiyoung/planetoid/raw/master/data/ind.pubmed.ty\n",
      "Downloading https://github.com/kimiyoung/planetoid/raw/master/data/ind.pubmed.ally\n",
      "Downloading https://github.com/kimiyoung/planetoid/raw/master/data/ind.pubmed.graph\n",
      "Downloading https://github.com/kimiyoung/planetoid/raw/master/data/ind.pubmed.test.index\n",
      "Processing...\n",
      "Done!\n",
      "Downloading https://github.com/shchur/gnn-benchmark/raw/master/data/npz/ms_academic_cs.npz\n",
      "Processing...\n",
      "Done!\n"
     ]
    }
   ],
   "source": [
    "root = '../data'\n",
    "wiki_datasets = [\"chameleon\",\"crocodile\"]\n",
    "planetoid_dataset = \"PubMed\"\n",
    "coauthor_dataset = \"CS\"\n",
    "\n",
    "wiki_chameleon = WikipediaNetwork(root=root, name=wiki_datasets[0]).data\n",
    "wiki_crocodile = WikipediaNetwork(root=root, name=wiki_datasets[1], geom_gcn_preprocess=False).data\n",
    "pubmed = Planetoid(root=root, name=planetoid_dataset).data\n",
    "cs = Coauthor(root=root, name=coauthor_dataset).data\n"
   ]
  },
  {
   "cell_type": "markdown",
   "metadata": {},
   "source": [
    "## Split each dataset and save"
   ]
  },
  {
   "cell_type": "code",
   "execution_count": 56,
   "metadata": {},
   "outputs": [],
   "source": [
    "rlp = RandomLinkSplit()\n",
    "def split_save(data):\n",
    "    train_data, valid_data, test_data = rlp(data)\n",
    "    timestr = time.strftime(\"%Y%m%d-%H%M%S\")\n",
    "    names =['train_data_'+timestr,'valid_data_'+timestr,'test_data_'+timestr]\n",
    "    data = [train_data, valid_data, test_data]\n",
    "    for data, name in zip(data,names):\n",
    "        pickle.dump(data, bz2.BZ2File('../data/{0}.p'.format(name),'wb'))\n",
    "\n",
    "data = [wiki_chameleon, wiki_crocodile, pubmed, cs]\n",
    "for set in data:\n",
    "    split_save(set)"
   ]
  },
  {
   "cell_type": "code",
   "execution_count": 57,
   "metadata": {},
   "outputs": [
    {
     "name": "stdout",
     "output_type": "stream",
     "text": [
      "171216\n"
     ]
    }
   ],
   "source": [
    "import os\n",
    "print(os.path.getsize('../data/test_data_20230130-142810.p'))"
   ]
  },
  {
   "cell_type": "code",
   "execution_count": null,
   "metadata": {},
   "outputs": [],
   "source": []
  }
 ],
 "metadata": {
  "kernelspec": {
   "display_name": "Python 3.10.0 ('.venv': venv)",
   "language": "python",
   "name": "python3"
  },
  "language_info": {
   "codemirror_mode": {
    "name": "ipython",
    "version": 3
   },
   "file_extension": ".py",
   "mimetype": "text/x-python",
   "name": "python",
   "nbconvert_exporter": "python",
   "pygments_lexer": "ipython3",
   "version": "3.10.0"
  },
  "orig_nbformat": 4,
  "vscode": {
   "interpreter": {
    "hash": "d031f367699a04ff1c380b258116486c512c2d8deb2bd9c991bfcd47444ad3b6"
   }
  }
 },
 "nbformat": 4,
 "nbformat_minor": 2
}
